{
  "nbformat": 4,
  "nbformat_minor": 0,
  "metadata": {
    "colab": {
      "provenance": []
    },
    "kernelspec": {
      "name": "python3",
      "display_name": "Python 3"
    },
    "language_info": {
      "name": "python"
    }
  },
  "cells": [
    {
      "cell_type": "markdown",
      "source": [
        "# Numpy\n",
        "- open scorce library\n",
        "- used to work with numerical data\n",
        "- contains multi dimensional array and matrix structures\n"
      ],
      "metadata": {
        "id": "PV5h_E5mrk1a"
      }
    },
    {
      "cell_type": "code",
      "source": [
        "#Install numpy\n",
        "!pip install numpy"
      ],
      "metadata": {
        "colab": {
          "base_uri": "https://localhost:8080/"
        },
        "id": "S2UjNMCzs9Pr",
        "outputId": "bd3048b8-ce13-4bb0-b8af-718a8906ed05"
      },
      "execution_count": 1,
      "outputs": [
        {
          "output_type": "stream",
          "name": "stdout",
          "text": [
            "Requirement already satisfied: numpy in /usr/local/lib/python3.10/dist-packages (1.25.2)\n"
          ]
        }
      ]
    },
    {
      "cell_type": "code",
      "source": [
        "# import\n",
        "import numpy as np"
      ],
      "metadata": {
        "id": "LEjmTHTVtMvU"
      },
      "execution_count": 2,
      "outputs": []
    },
    {
      "cell_type": "markdown",
      "source": [
        "## Why Numpy?\n",
        "\n",
        "- High Performance: Optimized for numerical computations.\n",
        "- Multidimensional Arrays: Provides ndarray for N-dimensional array representation.\n",
        "- Broadcasting: Enables arithmetic operations on arrays of different shapes.\n",
        "- Comprehensive Mathematical Functions: Includes a wide range of mathematical operations.\n",
        "-Memory Efficiency: More memory-efficient than Python lists.\n",
        "-Integration with Other Libraries: Compatible with pandas, SciPy, scikit-learn, TensorFlow, etc.\n",
        "-Vectorization: Allows execution of operations on entire arrays without explicit loops.\n",
        "-Ease of Use: Simple syntax with powerful functionality.\n",
        "-Community and Support: Extensive documentation, tutorials, and active community support."
      ],
      "metadata": {
        "id": "bN3I8WZguAgQ"
      }
    },
    {
      "cell_type": "markdown",
      "source": [
        "## Numpy class\n",
        "\n",
        "- **ndarray.ndim :** Number of dimensions of the array.\n",
        "- **ndarray.shape :** Dimensions of the array (rows, columns).\n",
        "- **ndarray.size :** Total number of elements in the array.\n",
        "- **ndarray.dtype :** Data type of the elements in the array.\n",
        "-**ndarray.itemsize :** Size (in bytes) of each element in the array.\n",
        "- **ndarray.data :** \tMemory buffer containing the actual elements of the array.\n"
      ],
      "metadata": {
        "id": "D1YOtu3zvRDP"
      }
    },
    {
      "cell_type": "code",
      "source": [
        "a=np.array(([1,2,3],[8,5,4]))\n",
        "print(\"Number of dimensions of the array=\",a.ndim)\n",
        "print( )\n",
        "print(\"Dimensions of the array=\", a.shape)\n",
        "print( )\n",
        "print(\"Total number of elements in the array=\", a.shape)\n",
        "print( )\n",
        "print(\"Data type of the elements in the array\", a.dtype)\n",
        "print( )\n",
        "print(\"Size (in bytes) of each element in the array\",a.itemsize)\n",
        "print( )\n",
        "print(\"Memory buffer containing the actual elements of the array\", a.data)"
      ],
      "metadata": {
        "colab": {
          "base_uri": "https://localhost:8080/"
        },
        "id": "XV72BMCvwHts",
        "outputId": "ca74fe5e-b075-4e63-83f6-a98b39701bca"
      },
      "execution_count": 3,
      "outputs": [
        {
          "output_type": "stream",
          "name": "stdout",
          "text": [
            "Number of dimensions of the array= 2\n",
            "\n",
            "Dimensions of the array= (2, 3)\n",
            "\n",
            "Total number of elements in the array= (2, 3)\n",
            "\n",
            "Data type of the elements in the array int64\n",
            "\n",
            "Size (in bytes) of each element in the array 8\n",
            "\n",
            "Memory buffer containing the actual elements of the array <memory at 0x7b848df0c790>\n"
          ]
        }
      ]
    },
    {
      "cell_type": "markdown",
      "source": [
        "## Complex"
      ],
      "metadata": {
        "id": "tV_u8Y0p1s6W"
      }
    },
    {
      "cell_type": "code",
      "source": [
        "c=np.array([[1,2,3],[4,5,6]], dtype=complex)\n",
        "c"
      ],
      "metadata": {
        "colab": {
          "base_uri": "https://localhost:8080/"
        },
        "id": "xdHSD8SY1lrP",
        "outputId": "6136069e-6412-4b3e-87a2-b5447bd458cf"
      },
      "execution_count": 4,
      "outputs": [
        {
          "output_type": "execute_result",
          "data": {
            "text/plain": [
              "array([[1.+0.j, 2.+0.j, 3.+0.j],\n",
              "       [4.+0.j, 5.+0.j, 6.+0.j]])"
            ]
          },
          "metadata": {},
          "execution_count": 4
        }
      ]
    },
    {
      "cell_type": "markdown",
      "source": [
        "## Create sequences of numbers"
      ],
      "metadata": {
        "id": "FNB4y7pv3giJ"
      }
    },
    {
      "cell_type": "code",
      "source": [
        "# np.arange([start,stop,step], dtype=None)\n",
        "c=np.arange(10,50,5)\n",
        "c"
      ],
      "metadata": {
        "colab": {
          "base_uri": "https://localhost:8080/"
        },
        "id": "jBVyxsQI4Ju4",
        "outputId": "53538ec9-7435-46df-a0ec-87a2be4adf20"
      },
      "execution_count": 5,
      "outputs": [
        {
          "output_type": "execute_result",
          "data": {
            "text/plain": [
              "array([10, 15, 20, 25, 30, 35, 40, 45])"
            ]
          },
          "metadata": {},
          "execution_count": 5
        }
      ]
    },
    {
      "cell_type": "code",
      "source": [
        "# float\n",
        "np.arange(0,2,0.4)"
      ],
      "metadata": {
        "colab": {
          "base_uri": "https://localhost:8080/"
        },
        "id": "sM4Ts3YA5V2_",
        "outputId": "7f3bae5b-fe7e-4049-dadc-94d02510bd5d"
      },
      "execution_count": 6,
      "outputs": [
        {
          "output_type": "execute_result",
          "data": {
            "text/plain": [
              "array([0. , 0.4, 0.8, 1.2, 1.6])"
            ]
          },
          "metadata": {},
          "execution_count": 6
        }
      ]
    },
    {
      "cell_type": "code",
      "source": [
        "np.arange(100)"
      ],
      "metadata": {
        "colab": {
          "base_uri": "https://localhost:8080/"
        },
        "id": "lPZ4Qr9z6BPq",
        "outputId": "b56b9a32-d4b9-46ea-bbb4-fec269dc01ea"
      },
      "execution_count": 7,
      "outputs": [
        {
          "output_type": "execute_result",
          "data": {
            "text/plain": [
              "array([ 0,  1,  2,  3,  4,  5,  6,  7,  8,  9, 10, 11, 12, 13, 14, 15, 16,\n",
              "       17, 18, 19, 20, 21, 22, 23, 24, 25, 26, 27, 28, 29, 30, 31, 32, 33,\n",
              "       34, 35, 36, 37, 38, 39, 40, 41, 42, 43, 44, 45, 46, 47, 48, 49, 50,\n",
              "       51, 52, 53, 54, 55, 56, 57, 58, 59, 60, 61, 62, 63, 64, 65, 66, 67,\n",
              "       68, 69, 70, 71, 72, 73, 74, 75, 76, 77, 78, 79, 80, 81, 82, 83, 84,\n",
              "       85, 86, 87, 88, 89, 90, 91, 92, 93, 94, 95, 96, 97, 98, 99])"
            ]
          },
          "metadata": {},
          "execution_count": 7
        }
      ]
    },
    {
      "cell_type": "code",
      "source": [
        "np.arange(100).reshape(10,10)"
      ],
      "metadata": {
        "colab": {
          "base_uri": "https://localhost:8080/"
        },
        "id": "-TWRegck6Hp6",
        "outputId": "4303c0c6-0662-4f2f-ff9f-be06393cc089"
      },
      "execution_count": 8,
      "outputs": [
        {
          "output_type": "execute_result",
          "data": {
            "text/plain": [
              "array([[ 0,  1,  2,  3,  4,  5,  6,  7,  8,  9],\n",
              "       [10, 11, 12, 13, 14, 15, 16, 17, 18, 19],\n",
              "       [20, 21, 22, 23, 24, 25, 26, 27, 28, 29],\n",
              "       [30, 31, 32, 33, 34, 35, 36, 37, 38, 39],\n",
              "       [40, 41, 42, 43, 44, 45, 46, 47, 48, 49],\n",
              "       [50, 51, 52, 53, 54, 55, 56, 57, 58, 59],\n",
              "       [60, 61, 62, 63, 64, 65, 66, 67, 68, 69],\n",
              "       [70, 71, 72, 73, 74, 75, 76, 77, 78, 79],\n",
              "       [80, 81, 82, 83, 84, 85, 86, 87, 88, 89],\n",
              "       [90, 91, 92, 93, 94, 95, 96, 97, 98, 99]])"
            ]
          },
          "metadata": {},
          "execution_count": 8
        }
      ]
    },
    {
      "cell_type": "markdown",
      "source": [
        "\n",
        "##Vectors - Arithmetic operators\n"
      ],
      "metadata": {
        "id": "FMbKAb2Nr5ab"
      }
    },
    {
      "cell_type": "code",
      "execution_count": 9,
      "metadata": {
        "colab": {
          "base_uri": "https://localhost:8080/"
        },
        "id": "JAMx1Hspri68",
        "outputId": "5b2a0217-2d6e-4207-8ef4-9fa926b40bfb"
      },
      "outputs": [
        {
          "output_type": "execute_result",
          "data": {
            "text/plain": [
              "array([5, 7, 9])"
            ]
          },
          "metadata": {},
          "execution_count": 9
        }
      ],
      "source": [
        "x=np.array([1,2,3])\n",
        "y=np.array([4,5,6])\n",
        "c=x+y\n",
        "c"
      ]
    },
    {
      "cell_type": "code",
      "source": [
        "a=np.array([20,40,50,30])\n",
        "b=np.arange(4)\n",
        "c= a - b\n",
        "c\n",
        "#output:\n",
        "# b=[0,1,2,3]\n",
        "#c=[20-0,40-1,50-2,30-3]"
      ],
      "metadata": {
        "id": "9RdiQ4Tq7F8i",
        "colab": {
          "base_uri": "https://localhost:8080/"
        },
        "outputId": "fa4fa85d-54d2-4742-9bec-822f36d1d5a6"
      },
      "execution_count": 15,
      "outputs": [
        {
          "output_type": "execute_result",
          "data": {
            "text/plain": [
              "array([20, 39, 48, 27])"
            ]
          },
          "metadata": {},
          "execution_count": 15
        }
      ]
    },
    {
      "cell_type": "code",
      "source": [
        "#Element-wise multiplication\n",
        "x=np.array([1,2,3])\n",
        "y=np.array([4,5,6])\n",
        "d=x*y\n",
        "d"
      ],
      "metadata": {
        "colab": {
          "base_uri": "https://localhost:8080/"
        },
        "id": "Wyy6bqdYuR5U",
        "outputId": "7d5c4f18-1b7d-4ea0-cf09-7b153c3fc60f"
      },
      "execution_count": 17,
      "outputs": [
        {
          "output_type": "execute_result",
          "data": {
            "text/plain": [
              "array([ 4, 10, 18])"
            ]
          },
          "metadata": {},
          "execution_count": 17
        }
      ]
    },
    {
      "cell_type": "code",
      "source": [
        "# Scaling vectors\n",
        "x=np.array([1,2,3])\n",
        "y=5*x\n",
        "y"
      ],
      "metadata": {
        "colab": {
          "base_uri": "https://localhost:8080/"
        },
        "id": "lROgGL8Mv6_f",
        "outputId": "44f2daa1-e13a-4f95-a7f8-9ffa9f8cf4bd"
      },
      "execution_count": 21,
      "outputs": [
        {
          "output_type": "execute_result",
          "data": {
            "text/plain": [
              "array([ 5, 10, 15])"
            ]
          },
          "metadata": {},
          "execution_count": 21
        }
      ]
    },
    {
      "cell_type": "code",
      "source": [
        "#Element-wise functions of vectors\n",
        "x=np.array([1,2,3])\n",
        "y=3**x\n",
        "y"
      ],
      "metadata": {
        "colab": {
          "base_uri": "https://localhost:8080/"
        },
        "id": "doAWkJUvygQp",
        "outputId": "e7981d22-2dc0-4c0a-b525-8b233d1e71a5"
      },
      "execution_count": 23,
      "outputs": [
        {
          "output_type": "execute_result",
          "data": {
            "text/plain": [
              "array([ 3,  9, 27])"
            ]
          },
          "metadata": {},
          "execution_count": 23
        }
      ]
    },
    {
      "cell_type": "code",
      "source": [
        "# log\n",
        "x = np.array([1, 10, 100, 1000, 10000, 100000])\n",
        "y = np.log10(x)\n",
        "y"
      ],
      "metadata": {
        "colab": {
          "base_uri": "https://localhost:8080/"
        },
        "id": "Rr45iQ7UynOi",
        "outputId": "a095e4db-94d9-466f-d1d9-4e4b225198d4"
      },
      "execution_count": 24,
      "outputs": [
        {
          "output_type": "execute_result",
          "data": {
            "text/plain": [
              "array([0., 1., 2., 3., 4., 5.])"
            ]
          },
          "metadata": {},
          "execution_count": 24
        }
      ]
    },
    {
      "cell_type": "code",
      "source": [
        "# Natural log\n",
        "x = np.array([1, np.e, np.e ** 2])\n",
        "y = np.log(x)\n",
        "y"
      ],
      "metadata": {
        "colab": {
          "base_uri": "https://localhost:8080/"
        },
        "id": "8NhFYWDQy2yY",
        "outputId": "0cb539a5-9216-4f78-fc87-2994cab394ae"
      },
      "execution_count": 25,
      "outputs": [
        {
          "output_type": "execute_result",
          "data": {
            "text/plain": [
              "array([0., 1., 2.])"
            ]
          },
          "metadata": {},
          "execution_count": 25
        }
      ]
    },
    {
      "cell_type": "code",
      "source": [
        "# Dot Product\n",
        "x = np.array([1, 2, 3, 4])\n",
        "y = np.array([-4, -5, -6, -7])\n",
        "\n",
        "z = np.dot(x, y)\n",
        "z\n",
        "\n",
        "# x*y=[1(-4)+2(-5)+3(-6)+4(-7)]"
      ],
      "metadata": {
        "colab": {
          "base_uri": "https://localhost:8080/"
        },
        "id": "FPWC7RSdy9Bz",
        "outputId": "ed570d83-9886-4f12-96f4-2a7b420d3c18"
      },
      "execution_count": 27,
      "outputs": [
        {
          "output_type": "execute_result",
          "data": {
            "text/plain": [
              "-60"
            ]
          },
          "metadata": {},
          "execution_count": 27
        }
      ]
    },
    {
      "cell_type": "markdown",
      "source": [
        "## Matrix"
      ],
      "metadata": {
        "id": "K-dc8PB81n4w"
      }
    },
    {
      "cell_type": "code",
      "source": [
        "A=np.array([[1,1],[0,1]])\n",
        "B=np.array([[2,0],[3,4]])"
      ],
      "metadata": {
        "id": "f_wDR9E_1xgm"
      },
      "execution_count": 31,
      "outputs": []
    },
    {
      "cell_type": "code",
      "source": [
        "#addition\n",
        "D=A+B\n",
        "D"
      ],
      "metadata": {
        "colab": {
          "base_uri": "https://localhost:8080/"
        },
        "id": "dyZ24H0i3L_Z",
        "outputId": "68adad6b-fe5a-4f26-b848-bdf1f12259ad"
      },
      "execution_count": 33,
      "outputs": [
        {
          "output_type": "execute_result",
          "data": {
            "text/plain": [
              "array([[3, 1],\n",
              "       [3, 5]])"
            ]
          },
          "metadata": {},
          "execution_count": 33
        }
      ]
    },
    {
      "cell_type": "code",
      "source": [
        "# elementwise product\n",
        "C=A*B\n",
        "C"
      ],
      "metadata": {
        "colab": {
          "base_uri": "https://localhost:8080/"
        },
        "id": "9fNlaqpM3LA3",
        "outputId": "e0b1701d-50be-46c8-8279-f729c5235082"
      },
      "execution_count": 32,
      "outputs": [
        {
          "output_type": "execute_result",
          "data": {
            "text/plain": [
              "array([[2, 0],\n",
              "       [0, 4]])"
            ]
          },
          "metadata": {},
          "execution_count": 32
        }
      ]
    },
    {
      "cell_type": "code",
      "source": [
        "# matrix product\n",
        "A@B"
      ],
      "metadata": {
        "colab": {
          "base_uri": "https://localhost:8080/"
        },
        "id": "ijdaZhuZ2Mph",
        "outputId": "b8174941-c11d-425f-cb16-c751db72498b"
      },
      "execution_count": 29,
      "outputs": [
        {
          "output_type": "execute_result",
          "data": {
            "text/plain": [
              "array([[5, 4],\n",
              "       [3, 4]])"
            ]
          },
          "metadata": {},
          "execution_count": 29
        }
      ]
    },
    {
      "cell_type": "code",
      "source": [
        "# dot matrix product\n",
        "B.dot(A)"
      ],
      "metadata": {
        "colab": {
          "base_uri": "https://localhost:8080/"
        },
        "id": "5IsnJY002R85",
        "outputId": "5092979d-20f7-4cc2-a7ad-050af6b421be"
      },
      "execution_count": 30,
      "outputs": [
        {
          "output_type": "execute_result",
          "data": {
            "text/plain": [
              "array([[2, 2],\n",
              "       [3, 7]])"
            ]
          },
          "metadata": {},
          "execution_count": 30
        }
      ]
    },
    {
      "cell_type": "code",
      "source": [
        "# Scaling a matrix\n",
        "M = np.array([[1, 3, 3], [4, 4, 6], [7, 7, 9]])\n",
        "P = 3 * M\n",
        "P"
      ],
      "metadata": {
        "colab": {
          "base_uri": "https://localhost:8080/"
        },
        "id": "6PEXSbWa3Va_",
        "outputId": "aac559bc-1685-40d5-8362-60855acfa2bb"
      },
      "execution_count": 35,
      "outputs": [
        {
          "output_type": "execute_result",
          "data": {
            "text/plain": [
              "array([[ 3,  9,  9],\n",
              "       [12, 12, 18],\n",
              "       [21, 21, 27]])"
            ]
          },
          "metadata": {},
          "execution_count": 35
        }
      ]
    },
    {
      "cell_type": "code",
      "source": [
        "#Transpose of a matrix\n",
        "M = np.array([[1, 3, 3], [3, 5, 6]])\n",
        "M_t = np.transpose(M)\n",
        "M_t"
      ],
      "metadata": {
        "colab": {
          "base_uri": "https://localhost:8080/"
        },
        "id": "JABIk-T76xr3",
        "outputId": "15bd356a-9ecb-4432-a37c-7b58e10fcb86"
      },
      "execution_count": 37,
      "outputs": [
        {
          "output_type": "execute_result",
          "data": {
            "text/plain": [
              "array([[1, 3],\n",
              "       [3, 5],\n",
              "       [3, 6]])"
            ]
          },
          "metadata": {},
          "execution_count": 37
        }
      ]
    },
    {
      "cell_type": "code",
      "source": [
        "#another way for transpose of matrix\n",
        "M = np.array([[1, 6, 3], [4, 8, 6]])\n",
        "M_t = M.T\n",
        "\n",
        "M_t"
      ],
      "metadata": {
        "colab": {
          "base_uri": "https://localhost:8080/"
        },
        "id": "BryoohGO8tu1",
        "outputId": "198e6425-d95c-4967-80c6-f2467b8eec59"
      },
      "execution_count": 39,
      "outputs": [
        {
          "output_type": "execute_result",
          "data": {
            "text/plain": [
              "array([[1, 4],\n",
              "       [6, 8],\n",
              "       [3, 6]])"
            ]
          },
          "metadata": {},
          "execution_count": 39
        }
      ]
    },
    {
      "cell_type": "markdown",
      "source": [
        "## Product of matrix and vector"
      ],
      "metadata": {
        "id": "ZF1erhgI9nqN"
      }
    },
    {
      "cell_type": "code",
      "source": [
        "A = np.array([[1, 2, 3], [4, 5, 6], [7, 8, 9]])\n",
        "x = np.array([6, 7, 8])\n",
        "C = A @ x\n",
        "\n",
        "C"
      ],
      "metadata": {
        "colab": {
          "base_uri": "https://localhost:8080/"
        },
        "id": "2EZ4CIdN9AIR",
        "outputId": "ed6e7d70-1f34-4dc7-acee-d2425d0763bf"
      },
      "execution_count": 40,
      "outputs": [
        {
          "output_type": "execute_result",
          "data": {
            "text/plain": [
              "array([ 44, 107, 170])"
            ]
          },
          "metadata": {},
          "execution_count": 40
        }
      ]
    },
    {
      "cell_type": "markdown",
      "source": [
        "## Matrix of ones"
      ],
      "metadata": {
        "id": "PWK0p1P79xxb"
      }
    },
    {
      "cell_type": "code",
      "source": [
        "M= np.ones((3,2))\n",
        "M"
      ],
      "metadata": {
        "colab": {
          "base_uri": "https://localhost:8080/"
        },
        "id": "QE0g82gj9qnb",
        "outputId": "84a02fd5-1aa4-40a2-f74f-3a6aa79405c5"
      },
      "execution_count": 43,
      "outputs": [
        {
          "output_type": "execute_result",
          "data": {
            "text/plain": [
              "array([[1., 1.],\n",
              "       [1., 1.],\n",
              "       [1., 1.]])"
            ]
          },
          "metadata": {},
          "execution_count": 43
        }
      ]
    },
    {
      "cell_type": "markdown",
      "source": [
        "## Identity matrix"
      ],
      "metadata": {
        "id": "vkL2srfO_xPw"
      }
    },
    {
      "cell_type": "code",
      "source": [
        "I = np.eye(3)\n",
        "I"
      ],
      "metadata": {
        "colab": {
          "base_uri": "https://localhost:8080/"
        },
        "id": "3uQv4ZvN_w-S",
        "outputId": "094d8f61-c99f-48e9-c56a-d76d481087e3"
      },
      "execution_count": 44,
      "outputs": [
        {
          "output_type": "execute_result",
          "data": {
            "text/plain": [
              "array([[1., 0., 0.],\n",
              "       [0., 1., 0.],\n",
              "       [0., 0., 1.]])"
            ]
          },
          "metadata": {},
          "execution_count": 44
        }
      ]
    },
    {
      "cell_type": "markdown",
      "source": [
        "# More on Arrays"
      ],
      "metadata": {
        "id": "aHOwoQBiAakD"
      }
    },
    {
      "cell_type": "markdown",
      "source": [
        "## Arrays"
      ],
      "metadata": {
        "id": "FXDqLfeCAgCE"
      }
    },
    {
      "cell_type": "code",
      "source": [
        "x = np.array([1, 4, 3])\n",
        "M = np.array([[1, 2], [5, 4], [5, 6]])\n",
        "\n",
        "print('x has shape', x.shape)\n",
        "print('M has shape', M.shape)\n",
        "\n",
        "print('x is an array of dimension', x.ndim)\n",
        "print('M is an array of dimension', M.ndim)\n"
      ],
      "metadata": {
        "colab": {
          "base_uri": "https://localhost:8080/"
        },
        "id": "DAzsX6ML-Qrq",
        "outputId": "8d924bb5-cc21-4a2d-af87-79b4c9cd04fc"
      },
      "execution_count": 45,
      "outputs": [
        {
          "output_type": "stream",
          "name": "stdout",
          "text": [
            "x has shape (3,)\n",
            "M has shape (3, 2)\n",
            "x is an array of dimension 1\n",
            "M is an array of dimension 2\n"
          ]
        }
      ]
    },
    {
      "cell_type": "markdown",
      "source": [
        "## Reshaping"
      ],
      "metadata": {
        "id": "GWuAVvKWA6Tv"
      }
    },
    {
      "cell_type": "code",
      "source": [
        "M=np.array([[1,2,3],[4,5,6]])\n",
        "x=M.reshape(6) #6 element\n",
        "x"
      ],
      "metadata": {
        "colab": {
          "base_uri": "https://localhost:8080/"
        },
        "id": "4YeIUdnLAxbh",
        "outputId": "647a2382-bc3b-46de-988b-346d3215c3a1"
      },
      "execution_count": 51,
      "outputs": [
        {
          "output_type": "execute_result",
          "data": {
            "text/plain": [
              "array([1, 2, 3, 4, 5, 6])"
            ]
          },
          "metadata": {},
          "execution_count": 51
        }
      ]
    },
    {
      "cell_type": "code",
      "source": [
        "x=np.array([1, 2, 3, 4, 5, 6])\n",
        "M=x.reshape((2,3))\n",
        "N=x.reshape(3,2)\n",
        "print(M)\n",
        "print()\n",
        "print(N)"
      ],
      "metadata": {
        "colab": {
          "base_uri": "https://localhost:8080/"
        },
        "id": "AK8P5EYpBF-8",
        "outputId": "697618b1-687c-400d-ce45-9377d087c4a9"
      },
      "execution_count": 57,
      "outputs": [
        {
          "output_type": "stream",
          "name": "stdout",
          "text": [
            "[[1 2 3]\n",
            " [4 5 6]]\n",
            "\n",
            "[[1 2]\n",
            " [3 4]\n",
            " [5 6]]\n"
          ]
        }
      ]
    },
    {
      "cell_type": "code",
      "source": [
        "M = np.array([[1, 2, 3, 4], [5, 6, 7, 8]])\n",
        "b = np.array([1, 2])\n",
        "print('Shape of M:', M.shape)\n",
        "print('Shape of b:', b.shape)\n",
        "\n",
        "# M+b is not possible\n",
        "# Because M is a 2D array (or matrix) with the shape (2, 4), which means it has 2 rows and 4 columns.\n",
        "# b is a 1D array (or vector) with the shape (2,), which means it has 2 elements."
      ],
      "metadata": {
        "colab": {
          "base_uri": "https://localhost:8080/"
        },
        "id": "yaJs6rjiBbCd",
        "outputId": "f7da063f-e97c-4cc3-ad2d-1d249b822801"
      },
      "execution_count": 59,
      "outputs": [
        {
          "output_type": "stream",
          "name": "stdout",
          "text": [
            "Shape of M: (2, 4)\n",
            "Shape of b: (2,)\n"
          ]
        }
      ]
    },
    {
      "cell_type": "code",
      "source": [
        "b = np.expand_dims(b, 1)\n",
        "b.shape"
      ],
      "metadata": {
        "colab": {
          "base_uri": "https://localhost:8080/"
        },
        "id": "epxMO_WtFIRF",
        "outputId": "d4e9e322-e106-49db-a866-30c844a8140e"
      },
      "execution_count": 60,
      "outputs": [
        {
          "output_type": "execute_result",
          "data": {
            "text/plain": [
              "(2, 1)"
            ]
          },
          "metadata": {},
          "execution_count": 60
        }
      ]
    },
    {
      "cell_type": "markdown",
      "source": [
        "## Indexing and Slicing an array"
      ],
      "metadata": {
        "id": "WzGVo4FDIax-"
      }
    },
    {
      "cell_type": "code",
      "source": [
        "M = np.array([[1, 2], [3, 4], [5, 6], [7, 8], [9, 10]])\n",
        "M[2]"
      ],
      "metadata": {
        "colab": {
          "base_uri": "https://localhost:8080/"
        },
        "id": "_ad7MNfKHf67",
        "outputId": "df5c4282-1a09-46d5-837e-e9569019598d"
      },
      "execution_count": 61,
      "outputs": [
        {
          "output_type": "execute_result",
          "data": {
            "text/plain": [
              "array([5, 6])"
            ]
          },
          "metadata": {},
          "execution_count": 61
        }
      ]
    },
    {
      "cell_type": "code",
      "source": [
        "M = np.array([[1, 2], [3, 4], [5, 6], [7, 8], [9, 10]])\n",
        "M[1: 3, 0]"
      ],
      "metadata": {
        "colab": {
          "base_uri": "https://localhost:8080/"
        },
        "id": "J8aKQATgIfHs",
        "outputId": "980a43ed-8850-4b90-8da7-e49613362336"
      },
      "execution_count": 62,
      "outputs": [
        {
          "output_type": "execute_result",
          "data": {
            "text/plain": [
              "array([3, 5])"
            ]
          },
          "metadata": {},
          "execution_count": 62
        }
      ]
    },
    {
      "cell_type": "markdown",
      "source": [
        "## Stacking arrays"
      ],
      "metadata": {
        "id": "h7-9Oq1_Ik3C"
      }
    },
    {
      "cell_type": "code",
      "source": [
        "A = np.array([[1, 2], [3, 4]])\n",
        "B = np.array([[5, 6], [7, 8]])\n",
        "\n",
        "C = np.concatenate((A, B), axis = 0)\n",
        "print(C.shape)\n",
        "print(C)"
      ],
      "metadata": {
        "colab": {
          "base_uri": "https://localhost:8080/"
        },
        "id": "ga7Z10inIiid",
        "outputId": "27c10ad1-935f-4eff-afdf-be5c4e4db23d"
      },
      "execution_count": 63,
      "outputs": [
        {
          "output_type": "stream",
          "name": "stdout",
          "text": [
            "(4, 2)\n",
            "[[1 2]\n",
            " [3 4]\n",
            " [5 6]\n",
            " [7 8]]\n"
          ]
        }
      ]
    },
    {
      "cell_type": "code",
      "source": [
        "C = np.concatenate((A,B),axis=1)\n",
        "C"
      ],
      "metadata": {
        "colab": {
          "base_uri": "https://localhost:8080/"
        },
        "id": "m1ND4b1TIpm8",
        "outputId": "3013d244-b2a2-4f71-e79a-6abce6af6e19"
      },
      "execution_count": 65,
      "outputs": [
        {
          "output_type": "execute_result",
          "data": {
            "text/plain": [
              "array([[1, 2, 5, 6],\n",
              "       [3, 4, 7, 8]])"
            ]
          },
          "metadata": {},
          "execution_count": 65
        }
      ]
    },
    {
      "cell_type": "markdown",
      "source": [
        "# Sum, Mean and Variance"
      ],
      "metadata": {
        "id": "Nu8HUvpeO1N7"
      }
    },
    {
      "cell_type": "code",
      "source": [
        "A = np.array([[1, 2, 3, 4], [5, 6, 7, 8]])\n",
        "rsum = np.sum(A, axis = 1)\n",
        "print(\"sum of rows:\",rsum)\n",
        "#output ([1+2+3+4 , 5+6+7+8])"
      ],
      "metadata": {
        "colab": {
          "base_uri": "https://localhost:8080/"
        },
        "id": "31BBIbQKOu_J",
        "outputId": "04de6c47-3e30-4437-f099-99a1d81f9f2b"
      },
      "execution_count": 71,
      "outputs": [
        {
          "output_type": "stream",
          "name": "stdout",
          "text": [
            "sum of rows: [10 26]\n"
          ]
        }
      ]
    },
    {
      "cell_type": "code",
      "source": [
        "A = np.array([[1, 2, 3, 4], [5, 6, 7, 8]])\n",
        "csum = np.sum(A, axis = 0)\n",
        "print(\"sum of columns:\",csum)\n",
        "#output(1+5,2+6,3+7,4+8)"
      ],
      "metadata": {
        "colab": {
          "base_uri": "https://localhost:8080/"
        },
        "id": "kybF3sMNO-P-",
        "outputId": "2a2e9402-232c-456b-cd39-76f0d6ed6b18"
      },
      "execution_count": 72,
      "outputs": [
        {
          "output_type": "stream",
          "name": "stdout",
          "text": [
            "sum of columns: [ 6  8 10 12]\n"
          ]
        }
      ]
    },
    {
      "cell_type": "markdown",
      "source": [
        "# Linespace\n",
        "np.linspace(a, b, n) is a method that returns an array of 𝑛 evenly spaced points between [𝑎,𝑏].\n",
        "\n",
        "\n",
        "For example, np.linspace(0, 1, 5) is the array [0., 0.25, 0.5, 0.75, 1.]."
      ],
      "metadata": {
        "id": "WTPVbZnyzmsk"
      }
    },
    {
      "cell_type": "code",
      "source": [
        "x = np.linspace(-1, 1, 5)\n",
        "y = 2 * x\n",
        "\n",
        "#x=(-1,-0.5,0,0.5,1)\n",
        "#y=2*(-1,-0.5,0,0.5,1)"
      ],
      "metadata": {
        "colab": {
          "base_uri": "https://localhost:8080/"
        },
        "id": "MJ_noKNhu2q9",
        "outputId": "a1a3b721-5050-4ad1-9f8c-8dd0fffbcd16"
      },
      "execution_count": 6,
      "outputs": [
        {
          "output_type": "execute_result",
          "data": {
            "text/plain": [
              "array([-2., -1.,  0.,  1.,  2.])"
            ]
          },
          "metadata": {},
          "execution_count": 6
        }
      ]
    },
    {
      "cell_type": "code",
      "source": [
        "x = np.linspace(-1, 1, 5)\n",
        "y = 2 * x+4\n",
        "y\n",
        "#y=2*(-1,-0.5,0,0.5,1)+4"
      ],
      "metadata": {
        "colab": {
          "base_uri": "https://localhost:8080/"
        },
        "id": "3CnKVcWoyMuM",
        "outputId": "30e72124-f2ba-490f-e97f-756d0bc6043e"
      },
      "execution_count": 7,
      "outputs": [
        {
          "output_type": "execute_result",
          "data": {
            "text/plain": [
              "array([2., 3., 4., 5., 6.])"
            ]
          },
          "metadata": {},
          "execution_count": 7
        }
      ]
    },
    {
      "cell_type": "markdown",
      "source": [
        "- **\"*\" Operator (Element-wise Multiplication):**\n",
        "      - The * operator performs element-wise multiplication between arrays.\n",
        "      - This means that each element in one array is multiplied by the corresponding element in another array.\n",
        "      - The arrays must have the same shape or be broadcastable to a common shape.\n",
        "\n",
        "- **@ Operator: Matrix multiplication**\n",
        "      - It is used for matrix multiplication (also known as the dot product when applied to vectors).\n",
        "      - It follows the rules of linear algebra where the rows of the first matrix\n",
        "       are multiplied by the columns of the second matrix.\n",
        "\n",
        "- **np.dot Function:**\n",
        "       The np.dot function is a more general function that can be used for both dot products\n",
        "       and matrix multiplication, depending on the input arrays:\n",
        "       - If both arguments are 1-D arrays, it performs the dot product.\n",
        "       - If both arguments are 2-D arrays, it performs matrix multiplication.\n",
        "       - If one argument is a 2-D array and the other is a 1-D array, it performs a matrix-vector multiplication.\n",
        "       - For N-dimensional arrays, it performs a sum-product over the last axis of the first array\n",
        "       and the second-to-last axis of the second array."
      ],
      "metadata": {
        "id": "ah0f4wEj3_RJ"
      }
    },
    {
      "cell_type": "code",
      "source": [],
      "metadata": {
        "id": "_ITGwCfQ4lso"
      },
      "execution_count": 25,
      "outputs": []
    }
  ]
}